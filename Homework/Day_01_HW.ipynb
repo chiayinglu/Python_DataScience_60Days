{
 "cells": [
  {
   "cell_type": "markdown",
   "metadata": {},
   "source": [
    "# 認識 Numpy 套件與 Array 陣列定義\n",
    "\n",
    "正確使用 Array 的常用屬性，能夠掌握 Array 的重要特性"
   ]
  },
  {
   "cell_type": "code",
   "execution_count": 18,
   "metadata": {},
   "outputs": [
    {
     "name": "stdout",
     "output_type": "stream",
     "text": [
      "<module 'numpy' from '/opt/anaconda3/lib/python3.8/site-packages/numpy/__init__.py'>\n",
      "1.18.5\n"
     ]
    }
   ],
   "source": [
    "# 載入 NumPy 套件\n",
    "import numpy as np\n",
    "\n",
    "# 檢查正確載入與版本\n",
    "print(np)\n",
    "print(np.__version__)\n"
   ]
  },
  {
   "cell_type": "code",
   "execution_count": 19,
   "metadata": {},
   "outputs": [
    {
     "name": "stdout",
     "output_type": "stream",
     "text": [
      "[[ 0  1  2]\n",
      " [ 3  4  5]\n",
      " [ 6  7  8]\n",
      " [ 9 10 11]\n",
      " [12 13 14]]\n",
      "<class 'numpy.ndarray'>\n"
     ]
    }
   ],
   "source": [
    "# 從一個陣列開始\n",
    "import numpy as np\n",
    "a = np.arange( 15 ).reshape( 5 , 3 )\n",
    "print( a ) # 利用 print(...) 印出陣列\n",
    "\n",
    "print( type( a ) )"
   ]
  },
  {
   "cell_type": "code",
   "execution_count": 20,
   "metadata": {},
   "outputs": [
    {
     "name": "stdout",
     "output_type": "stream",
     "text": [
      "2\n",
      "(5, 3)\n",
      "15\n",
      "int64\n",
      "<memory at 0x10bbb2a00>\n"
     ]
    }
   ],
   "source": [
    "# 陣列的常用屬性\n",
    "print(a.ndim)\n",
    "print(a.shape)\n",
    "print(a.size)\n",
    "print(a.dtype)\n",
    "print(a.data)"
   ]
  },
  {
   "cell_type": "code",
   "execution_count": 22,
   "metadata": {},
   "outputs": [
    {
     "data": {
      "text/plain": [
       "[array([0, 1, 2]),\n",
       " array([3, 4, 5]),\n",
       " array([6, 7, 8]),\n",
       " array([ 9, 10, 11]),\n",
       " array([12, 13, 14])]"
      ]
     },
     "execution_count": 22,
     "metadata": {},
     "output_type": "execute_result"
    }
   ],
   "source": [
    "# List 與 Array 的轉換\n",
    "list( a )"
   ]
  },
  {
   "cell_type": "code",
   "execution_count": 16,
   "metadata": {},
   "outputs": [
    {
     "data": {
      "text/plain": [
       "[[0, 1, 2], [3, 4, 5], [6, 7, 8], [9, 10, 11], [12, 13, 14]]"
      ]
     },
     "execution_count": 16,
     "metadata": {},
     "output_type": "execute_result"
    }
   ],
   "source": [
    "a.tolist()"
   ]
  },
  {
   "cell_type": "markdown",
   "metadata": {},
   "source": [
    "# 作業-基礎題"
   ]
  },
  {
   "cell_type": "markdown",
   "metadata": {},
   "source": [
    "1. [簡答題] 請問下列兩種將 Array 轉換成 List 的方式有何不同？"
   ]
  },
  {
   "cell_type": "code",
   "execution_count": 47,
   "metadata": {},
   "outputs": [
    {
     "name": "stdout",
     "output_type": "stream",
     "text": [
      "範例陣列\n",
      " [[[ 0  1  2  3  4  5]\n",
      "  [ 6  7  8  9 10 11]\n",
      "  [12 13 14 15 16 17]\n",
      "  [18 19 20 21 22 23]\n",
      "  [24 25 26 27 28 29]]\n",
      "\n",
      " [[30 31 32 33 34 35]\n",
      "  [36 37 38 39 40 41]\n",
      "  [42 43 44 45 46 47]\n",
      "  [48 49 50 51 52 53]\n",
      "  [54 55 56 57 58 59]]]\n",
      "\n",
      " list()只轉換第一階的資料\n",
      "  [array([[ 0,  1,  2,  3,  4,  5],\n",
      "       [ 6,  7,  8,  9, 10, 11],\n",
      "       [12, 13, 14, 15, 16, 17],\n",
      "       [18, 19, 20, 21, 22, 23],\n",
      "       [24, 25, 26, 27, 28, 29]]), array([[30, 31, 32, 33, 34, 35],\n",
      "       [36, 37, 38, 39, 40, 41],\n",
      "       [42, 43, 44, 45, 46, 47],\n",
      "       [48, 49, 50, 51, 52, 53],\n",
      "       [54, 55, 56, 57, 58, 59]])]\n",
      "\n",
      " 但是 tolist()轉換全部的資料\n",
      ":  [[[0, 1, 2, 3, 4, 5], [6, 7, 8, 9, 10, 11], [12, 13, 14, 15, 16, 17], [18, 19, 20, 21, 22, 23], [24, 25, 26, 27, 28, 29]], [[30, 31, 32, 33, 34, 35], [36, 37, 38, 39, 40, 41], [42, 43, 44, 45, 46, 47], [48, 49, 50, 51, 52, 53], [54, 55, 56, 57, 58, 59]]]\n"
     ]
    }
   ],
   "source": [
    "import numpy as np\n",
    "a = np.arange( 60 ).reshape( 2,  5 , 6 )\n",
    "print( \"範例陣列\\n\", \n",
    "      a )\n",
    "\n",
    "print('\\n list()只轉換第一階的資料\\n ', list(a))\n",
    "print('\\n 但是 tolist()轉換全部的資料\\n: ', a.tolist())"
   ]
  },
  {
   "cell_type": "markdown",
   "metadata": {},
   "source": [
    "2. 請試著在程式中印出以下三個 NdArray 的屬性並且解釋結果？（屬性：ndim、shape、size、dtype、itemsize、length、type）\n"
   ]
  },
  {
   "cell_type": "raw",
   "metadata": {},
   "source": [
    "a = np.random.randint(10, size=6) \n",
    "b = np.random.randint(10, size=(3,4)) \n",
    "c = np.random.randint(10, size=(2,3,2)) "
   ]
  },
  {
   "cell_type": "code",
   "execution_count": 49,
   "metadata": {},
   "outputs": [],
   "source": [
    "# 記得先 Import 正確的套件\n",
    "\n",
    "a = np.random.randint(10, size=6) \n",
    "b = np.random.randint(10, size=(3,4)) \n",
    "c = np.random.randint(10, size=(2,3,2)) "
   ]
  },
  {
   "cell_type": "code",
   "execution_count": 55,
   "metadata": {},
   "outputs": [
    {
     "name": "stdout",
     "output_type": "stream",
     "text": [
      "a = np.random.randint(10, size=6) \n",
      "\n",
      "[5 2 4 4 3 4]\n",
      "1\n",
      "(6,)\n",
      "6\n",
      "int64\n",
      "8\n",
      "6\n",
      "<class 'numpy.ndarray'>\n"
     ]
    }
   ],
   "source": [
    "print(\"a = np.random.randint(10, size=6) \\n\")\n",
    "\n",
    "print(a)\n",
    "print(a.ndim)\n",
    "print(a.shape)\n",
    "print(a.size)\n",
    "print(a.dtype)\n",
    "print(a.itemsize)\n",
    "print(len(a))\n",
    "print(type(a))"
   ]
  },
  {
   "cell_type": "code",
   "execution_count": 56,
   "metadata": {},
   "outputs": [
    {
     "name": "stdout",
     "output_type": "stream",
     "text": [
      "b = np.random.randint(10, size=(3,4)) \n",
      "\n",
      "[[0 0 2 6]\n",
      " [7 6 6 6]\n",
      " [0 1 1 4]]\n",
      "2\n",
      "(3, 4)\n",
      "12\n",
      "int64\n",
      "8\n",
      "3\n",
      "<class 'numpy.ndarray'>\n"
     ]
    }
   ],
   "source": [
    "print( \"b = np.random.randint(10, size=(3,4)) \\n\")\n",
    "\n",
    "print(b)\n",
    "print(b.ndim)\n",
    "print(b.shape)\n",
    "print(b.size)\n",
    "print(b.dtype)\n",
    "print(b.itemsize)\n",
    "print(len(b))\n",
    "print(type(b))"
   ]
  },
  {
   "cell_type": "code",
   "execution_count": 57,
   "metadata": {},
   "outputs": [
    {
     "name": "stdout",
     "output_type": "stream",
     "text": [
      " c = np.random.randint(10, size=(2,3,2)) \n",
      "\n",
      "[[[6 9]\n",
      "  [1 0]\n",
      "  [1 5]]\n",
      "\n",
      " [[2 2]\n",
      "  [3 6]\n",
      "  [7 0]]]\n",
      "3\n",
      "(2, 3, 2)\n",
      "12\n",
      "int64\n",
      "8\n",
      "2\n",
      "<class 'numpy.ndarray'>\n"
     ]
    }
   ],
   "source": [
    "print(\" c = np.random.randint(10, size=(2,3,2)) \\n\")\n",
    "\n",
    "print(c)\n",
    "print(c.ndim)\n",
    "print(c.shape)\n",
    "print(c.size)\n",
    "print(c.dtype)\n",
    "print(c.itemsize)\n",
    "print(len(c))\n",
    "print(type(c))"
   ]
  },
  {
   "cell_type": "markdown",
   "metadata": {},
   "source": [
    "3. 如何利用 list(...) 實現 a.tolist() 的效果？試著用程式實作。"
   ]
  },
  {
   "cell_type": "code",
   "execution_count": 59,
   "metadata": {},
   "outputs": [
    {
     "name": "stdout",
     "output_type": "stream",
     "text": [
      "[8, 0, 0, 1, 9, 3]\n",
      "[8, 0, 0, 1, 9, 3]\n"
     ]
    }
   ],
   "source": [
    "a = np.random.randint(10, size=6) \n",
    "\n",
    "print( a.tolist( ))\n",
    "print( list( a ))"
   ]
  },
  {
   "cell_type": "code",
   "execution_count": 60,
   "metadata": {},
   "outputs": [
    {
     "name": "stdout",
     "output_type": "stream",
     "text": [
      "[[2, 9, 6, 3], [9, 1, 2, 6], [4, 6, 0, 7]]\n",
      "[array([2, 9, 6, 3]), array([9, 1, 2, 6]), array([4, 6, 0, 7])]\n"
     ]
    }
   ],
   "source": [
    "b = np.random.randint(10, size=(3,4)) \n",
    "\n",
    "print( b.tolist( ))\n",
    "print( list( b ))"
   ]
  },
  {
   "cell_type": "code",
   "execution_count": 61,
   "metadata": {},
   "outputs": [
    {
     "name": "stdout",
     "output_type": "stream",
     "text": [
      "[[[5, 3], [8, 4], [1, 8]], [[0, 8], [8, 1], [5, 4]]]\n",
      "[array([[5, 3],\n",
      "       [8, 4],\n",
      "       [1, 8]]), array([[0, 8],\n",
      "       [8, 1],\n",
      "       [5, 4]])]\n"
     ]
    }
   ],
   "source": [
    "c = np.random.randint(10, size=(2,3,2)) \n",
    "\n",
    "print(c.tolist())\n",
    "print(list(c))"
   ]
  },
  {
   "cell_type": "code",
   "execution_count": 64,
   "metadata": {},
   "outputs": [
    {
     "name": "stdout",
     "output_type": "stream",
     "text": [
      "[8, 0, 0, 1, 9, 3]\n",
      "[[2, 9, 6, 3], [9, 1, 2, 6], [4, 6, 0, 7]]\n",
      "[[[5, 3], [8, 4], [1, 8]], [[0, 8], [8, 1], [5, 4]]]\n"
     ]
    }
   ],
   "source": [
    "def tolist(iterable):\n",
    "    return iterable.tolist()\n",
    "\n",
    "print(tolist(a))\n",
    "print(tolist(b))\n",
    "print(tolist(c))"
   ]
  },
  {
   "cell_type": "markdown",
   "metadata": {},
   "source": [
    "# 作業-延伸題:\n",
    "在array中，可以靈活應用索引幫助資料擷取\n",
    "作業重點:\n",
    "陣列的索引、切片、以及屬性，皆需要注意使用方式\n",
    "陣列之中索引式由0開始請同學注意\n",
    "\n",
    "\n",
    "1.生成一個等差數列，首數為0，尾數為20，公差為1的數列。"
   ]
  },
  {
   "cell_type": "code",
   "execution_count": 68,
   "metadata": {},
   "outputs": [
    {
     "name": "stdout",
     "output_type": "stream",
     "text": [
      "首數為0，尾數為20，公差為1的等差數列 \n",
      " [ 0  1  2  3  4  5  6  7  8  9 10 11 12 13 14 15 16 17 18 19 20]\n"
     ]
    }
   ],
   "source": [
    "import numpy as np\n",
    "\n",
    "a = np.arange( 0, 21, 1 )\n",
    "\n",
    "print(\"首數為0，尾數為20，公差為1的等差數列 \\n\", a )"
   ]
  },
  {
   "cell_type": "markdown",
   "metadata": {},
   "source": [
    "2.呈上題，將以上數列取出偶數。"
   ]
  },
  {
   "cell_type": "code",
   "execution_count": 72,
   "metadata": {},
   "outputs": [
    {
     "name": "stdout",
     "output_type": "stream",
     "text": [
      "首數為0，尾數為20，公差為1的等差數列取出偶數 \n",
      " [ 0  2  4  6  8 10 12 14 16 18 20]\n"
     ]
    }
   ],
   "source": [
    "b = np.arange( 0, 21, 2 )\n",
    "\n",
    "print(\"首數為0，尾數為20，公差為1的等差數列取出偶數 \\n\", b )"
   ]
  },
  {
   "cell_type": "markdown",
   "metadata": {},
   "source": [
    "3.呈1題，將數列取出3的倍數。"
   ]
  },
  {
   "cell_type": "code",
   "execution_count": 71,
   "metadata": {},
   "outputs": [
    {
     "name": "stdout",
     "output_type": "stream",
     "text": [
      "首數為0，尾數為20，公差為1的等差數列中3的倍數 \n",
      " [ 0  3  6  9 12 15 18]\n"
     ]
    }
   ],
   "source": [
    "c = np.arange( 0, 21, 3 )\n",
    "\n",
    "print(\"首數為0，尾數為20，公差為1的等差數列中3的倍數 \\n\", c )"
   ]
  }
 ],
 "metadata": {
  "kernelspec": {
   "display_name": "Python 3",
   "language": "python",
   "name": "python3"
  },
  "language_info": {
   "codemirror_mode": {
    "name": "ipython",
    "version": 3
   },
   "file_extension": ".py",
   "mimetype": "text/x-python",
   "name": "python",
   "nbconvert_exporter": "python",
   "pygments_lexer": "ipython3",
   "version": "3.8.3"
  }
 },
 "nbformat": 4,
 "nbformat_minor": 4
}
